{
 "cells": [
  {
   "cell_type": "markdown",
   "metadata": {},
   "source": [
    "# Minimax Algorithm"
   ]
  },
  {
   "cell_type": "code",
   "execution_count": 1,
   "metadata": {},
   "outputs": [
    {
     "name": "stdout",
     "output_type": "stream",
     "text": [
      "Minimax Algorithm:\n",
      "12\n"
     ]
    }
   ],
   "source": [
    "import math\n",
    "\n",
    "def minimax(currentDepth, indexNode, max_min, scores, leafNode):\n",
    "    if currentDepth == leafNode:\n",
    "        return scores[indexNode]    \n",
    "    if max_min:\n",
    "        return max(minimax(currentDepth + 1,indexNode * 2,False, scores, leafNode), \n",
    "                   minimax(currentDepth + 1, indexNode * 2 + 1, False, scores, leafNode))\n",
    "    else:\n",
    "        return min(minimax(currentDepth + 1, indexNode * 2,True, scores, leafNode), \n",
    "                   minimax(currentDepth + 1,indexNode * 2 + 1,True, scores, leafNode))\n",
    "\n",
    "scores = []\n",
    "                \n",
    "length = int(input(\"Enter the Length of the List: \"))\n",
    "for i in range(length):\n",
    "    scores.append(int(input()))\n",
    "\n",
    "lengthNode = int(math.log(len(scores), 2))\n",
    "max_min = True if (int(math.log(len(scores), 2)) == math.log(len(scores), 2)) else False\n",
    "print(\"Minimax Algorithm:\")\n",
    "print(minimax(0,0,max_min, scores, lengthNode))"
   ]
  },
  {
   "cell_type": "code",
   "execution_count": null,
   "metadata": {},
   "outputs": [],
   "source": []
  }
 ],
 "metadata": {
  "kernelspec": {
   "display_name": "base",
   "language": "python",
   "name": "python3"
  },
  "language_info": {
   "codemirror_mode": {
    "name": "ipython",
    "version": 3
   },
   "file_extension": ".py",
   "mimetype": "text/x-python",
   "name": "python",
   "nbconvert_exporter": "python",
   "pygments_lexer": "ipython3",
   "version": "3.9.13"
  }
 },
 "nbformat": 4,
 "nbformat_minor": 2
}
