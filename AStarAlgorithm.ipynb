{
 "cells": [
  {
   "cell_type": "code",
   "execution_count": 2,
   "metadata": {},
   "outputs": [
    {
     "name": "stdout",
     "output_type": "stream",
     "text": [
      "['A', 'C', 'D', 'F']\n"
     ]
    }
   ],
   "source": [
    "def heuristic(a, b):\n",
    "    \"\"\"\n",
    "    Calculates the Manhattan distance between two nodes.\n",
    "    This is an admissible heuristic for grid-like graphs.\n",
    "    \"\"\"\n",
    "    node_coordinates = {\n",
    "        'A': (0, 0),\n",
    "        'B': (1, 1),\n",
    "        'C': (1, 0),\n",
    "        'D': (2, 1),\n",
    "        'E': (2, 2),\n",
    "        'F': (3, 1)\n",
    "    }\n",
    "    \n",
    "    (x1, y1) = node_coordinates[a]\n",
    "    (x2, y2) = node_coordinates[b]\n",
    "    return abs(x1 - x2) + abs(y1 - y2)\n",
    "\n",
    "def a_star_search(graph, start, goal):\n",
    "    frontier = [(0, start)]\n",
    "    came_from = {}\n",
    "    cost_so_far = {}\n",
    "    came_from[start] = None\n",
    "    cost_so_far[start] = 0\n",
    "\n",
    "    while frontier:\n",
    "        _, current = frontier.pop(0)\n",
    "\n",
    "        if current == goal:\n",
    "            break\n",
    "\n",
    "        for next, cost in graph[current].items():\n",
    "            new_cost = cost_so_far[current] + cost\n",
    "            if next not in cost_so_far or new_cost < cost_so_far[next]:\n",
    "                cost_so_far[next] = new_cost\n",
    "                priority = new_cost + heuristic(next, goal)\n",
    "                frontier.insert(0, (priority, next))\n",
    "                came_from[next] = current\n",
    "\n",
    "    path = []\n",
    "    current = goal\n",
    "    while current != start:\n",
    "        path.append(current)\n",
    "        current = came_from[current]\n",
    "    path.append(start)\n",
    "    path.reverse()\n",
    "\n",
    "    return path\n",
    "\n",
    "# Example usage\n",
    "graph = {\n",
    "    'A': {'B': 5, 'C': 1},\n",
    "    'B': {'A': 5, 'C': 2, 'D': 1},\n",
    "    'C': {'A': 1, 'B': 2, 'D': 4, 'E': 8},\n",
    "    'D': {'B': 1, 'C': 4, 'E': 3, 'F': 6},\n",
    "    'E': {'C': 8, 'D': 3},\n",
    "    'F': {'D': 6}\n",
    "}\n",
    "\n",
    "start = 'A'\n",
    "goal = 'F'\n",
    "path = a_star_search(graph, start, goal)\n",
    "print(path)\n"
   ]
  },
  {
   "cell_type": "code",
   "execution_count": null,
   "metadata": {},
   "outputs": [],
   "source": []
  }
 ],
 "metadata": {
  "kernelspec": {
   "display_name": "base",
   "language": "python",
   "name": "python3"
  },
  "language_info": {
   "codemirror_mode": {
    "name": "ipython",
    "version": 3
   },
   "file_extension": ".py",
   "mimetype": "text/x-python",
   "name": "python",
   "nbconvert_exporter": "python",
   "pygments_lexer": "ipython3",
   "version": "3.9.13"
  }
 },
 "nbformat": 4,
 "nbformat_minor": 2
}
