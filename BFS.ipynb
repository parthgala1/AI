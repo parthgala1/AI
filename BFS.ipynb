{
 "cells": [
  {
   "cell_type": "code",
   "execution_count": 5,
   "metadata": {},
   "outputs": [
    {
     "name": "stdout",
     "output_type": "stream",
     "text": [
      "BFS traversal starting from node A\n",
      "A B C D E F "
     ]
    }
   ],
   "source": [
    "from collections import deque\n",
    "\n",
    "def bfs(graph, start):\n",
    "    visited = set() \n",
    "    queue = deque([start])  # Initialize a queue with the starting vertex\n",
    "    \n",
    "    while queue:\n",
    "        vertex = queue.popleft()  # Dequeue a vertex from the queue\n",
    "        if vertex not in visited:\n",
    "            print(vertex, end=' ')  # Visit the vertex\n",
    "            visited.add(vertex)  # Mark the vertex as visited\n",
    "            # Enqueue all adjacent vertices of the dequeued vertex\n",
    "            for neighbor in graph[vertex]:\n",
    "                if neighbor not in visited:\n",
    "                    queue.append(neighbor)\n",
    "\n",
    "# Example usage\n",
    "graph = {\n",
    "    'A': ['B', 'C'],\n",
    "    'B': ['A', 'D', 'E'],\n",
    "    'C': ['A', 'F'],\n",
    "    'D': ['B'],\n",
    "    'E': ['B', 'F'],\n",
    "    'F': ['C', 'E']\n",
    "}\n",
    "\n",
    "start_node = 'A'\n",
    "print(\"BFS traversal starting from node\", start_node)\n",
    "bfs(graph, start_node)\n"
   ]
  },
  {
   "cell_type": "code",
   "execution_count": 26,
   "metadata": {},
   "outputs": [
    {
     "name": "stdout",
     "output_type": "stream",
     "text": [
      "Enter the total number of nodes in the graph: 7\n",
      "Enter the node: 0\n",
      "Enter it connecting edges: 1 3\n",
      "Enter the node: 1\n",
      "Enter it connecting edges: 2 3 5 6\n",
      "Enter the node: 2\n",
      "Enter it connecting edges: 3 4 5\n",
      "Enter the node: 3\n",
      "Enter it connecting edges: 4\n",
      "Enter the node: 4\n",
      "Enter it connecting edges: 6\n",
      "Enter the node: 5\n",
      "Enter it connecting edges: \n",
      "Enter the node: 6\n",
      "Enter it connecting edges: \n",
      "Enter the start node: 0\n",
      "The Nodes visited in BFS Method are:\n",
      "0 1 3 2 5 6 4 "
     ]
    }
   ],
   "source": [
    "from collections import deque\n",
    "\n",
    "def bfs(graph, start):\n",
    "    print(\"The Nodes visited in BFS Method are:\")\n",
    "    visited = set()\n",
    "    queue = deque([start])\n",
    "    \n",
    "    while queue:\n",
    "        vertex = queue.popleft()\n",
    "        if vertex not in visited:\n",
    "            print(vertex, end=' ')\n",
    "            visited.add(vertex)\n",
    "            \n",
    "            for neighbor in graph[vertex]:\n",
    "                if neighbor not in visited:\n",
    "                    queue.append(neighbor)\n",
    "\n",
    "                    \n",
    "graph = {}\n",
    "n = int(input(\"Enter the total number of nodes in the graph: \"))\n",
    "for i in range(n):   \n",
    "    key = input(\"Enter the node: \")\n",
    "    value = input(\"Enter it connecting edges: \").split()  \n",
    "    if key in graph:\n",
    "        graph[key].append(value)\n",
    "    else:\n",
    "        graph[key] = value\n",
    "\n",
    "start = input(\"Enter the start node: \")\n",
    "\n",
    "bfs(graph, start)"
   ]
  },
  {
   "cell_type": "code",
   "execution_count": null,
   "metadata": {},
   "outputs": [],
   "source": []
  }
 ],
 "metadata": {
  "kernelspec": {
   "display_name": "Python 3 (ipykernel)",
   "language": "python",
   "name": "python3"
  },
  "language_info": {
   "codemirror_mode": {
    "name": "ipython",
    "version": 3
   },
   "file_extension": ".py",
   "mimetype": "text/x-python",
   "name": "python",
   "nbconvert_exporter": "python",
   "pygments_lexer": "ipython3",
   "version": "3.9.13"
  }
 },
 "nbformat": 4,
 "nbformat_minor": 2
}
