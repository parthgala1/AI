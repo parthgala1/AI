{
 "cells": [
  {
   "cell_type": "code",
   "execution_count": 5,
   "metadata": {},
   "outputs": [
    {
     "name": "stdout",
     "output_type": "stream",
     "text": [
      "BFS traversal starting from node A\n",
      "A B C D E F "
     ]
    }
   ],
   "source": [
    "from collections import deque\n",
    "\n",
    "def bfs(graph, start):\n",
    "    visited = set() \n",
    "    queue = deque([start])  # Initialize a queue with the starting vertex\n",
    "    \n",
    "    while queue:\n",
    "        vertex = queue.popleft()  # Dequeue a vertex from the queue\n",
    "        if vertex not in visited:\n",
    "            print(vertex, end=' ')  # Visit the vertex\n",
    "            visited.add(vertex)  # Mark the vertex as visited\n",
    "            # Enqueue all adjacent vertices of the dequeued vertex\n",
    "            for neighbor in graph[vertex]:\n",
    "                if neighbor not in visited:\n",
    "                    queue.append(neighbor)\n",
    "\n",
    "# Example usage\n",
    "graph = {\n",
    "    'A': ['B', 'C'],\n",
    "    'B': ['A', 'D', 'E'],\n",
    "    'C': ['A', 'F'],\n",
    "    'D': ['B'],\n",
    "    'E': ['B', 'F'],\n",
    "    'F': ['C', 'E']\n",
    "}\n",
    "\n",
    "start_node = 'A'\n",
    "print(\"BFS traversal starting from node\", start_node)\n",
    "bfs(graph, start_node)\n"
   ]
  },
  {
   "cell_type": "code",
   "execution_count": 3,
   "metadata": {},
   "outputs": [
    {
     "name": "stdout",
     "output_type": "stream",
     "text": [
      "Your dictionary:\n",
      "{'a': ['b c'], 'b': ['c a']}\n"
     ]
    }
   ],
   "source": [
    "# Initialize an empty dictionary\n",
    "my_dict = {}\n",
    "\n",
    "# Take input for the number of key-value pairs\n",
    "n = int(input(\"Enter the number of key-value pairs: \"))\n",
    "\n",
    "# Iterate to take input for each key-value pair\n",
    "for i in range(n):\n",
    "    key = input(\"Enter key: \")\n",
    "    value = input(\"Enter value: \")\n",
    "    \n",
    "    # Check if the key already exists in the dictionary\n",
    "    if key in my_dict:\n",
    "        # If key exists, append the new value to the list of existing values\n",
    "        my_dict[key].append(value)\n",
    "    else:\n",
    "        # If key does not exist, create a new list with the value\n",
    "        my_dict[key] = [value]\n",
    "\n",
    "# Print the dictionary\n",
    "print(\"Your dictionary:\")\n",
    "print(my_dict)"
   ]
  },
  {
   "cell_type": "code",
   "execution_count": null,
   "metadata": {},
   "outputs": [],
   "source": []
  }
 ],
 "metadata": {
  "kernelspec": {
   "display_name": "base",
   "language": "python",
   "name": "python3"
  },
  "language_info": {
   "codemirror_mode": {
    "name": "ipython",
    "version": 3
   },
   "file_extension": ".py",
   "mimetype": "text/x-python",
   "name": "python",
   "nbconvert_exporter": "python",
   "pygments_lexer": "ipython3",
   "version": "3.9.13"
  }
 },
 "nbformat": 4,
 "nbformat_minor": 2
}
