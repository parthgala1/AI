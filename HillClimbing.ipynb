{
 "cells": [
  {
   "cell_type": "markdown",
   "metadata": {},
   "source": [
    "# Hill Climbing"
   ]
  },
  {
   "cell_type": "code",
   "execution_count": 4,
   "metadata": {},
   "outputs": [
    {
     "name": "stdout",
     "output_type": "stream",
     "text": [
      "9.999999999999831\n"
     ]
    }
   ],
   "source": [
    "def objective(x,target):\n",
    "    return (x * x) - target\n",
    "def hill_climb(target=25, currSol=0.0, epsilon=0.1):\n",
    "    while True:\n",
    "        currObj = objective(currSol, target)\n",
    "        \n",
    "        if abs(currObj) < epsilon:\n",
    "            return currSol\n",
    "        if currObj > 0:\n",
    "            currSol -= 0.01\n",
    "        if currObj < 0:\n",
    "            currSol += 0.01\n",
    "            \n",
    "print(hill_climb(target = 100))"
   ]
  },
  {
   "cell_type": "code",
   "execution_count": 9,
   "metadata": {},
   "outputs": [
    {
     "name": "stdout",
     "output_type": "stream",
     "text": [
      "10.0\n"
     ]
    }
   ],
   "source": [
    "def objective(x, target):\n",
    "    return (x * x) - target\n",
    "\n",
    "def hill_climb(target=25, currSol=0.0, epsilon=1e-6, max_iter=1000):\n",
    "    step_size = target / 10  # Initial step size\n",
    "\n",
    "    for _ in range(max_iter):\n",
    "        currObj = objective(currSol, target)\n",
    "\n",
    "        if abs(currObj) < epsilon * target:\n",
    "            return currSol  # Relative stopping condition\n",
    "\n",
    "        if currObj > 0:\n",
    "            currSol -= step_size\n",
    "        else:\n",
    "            currSol += step_size\n",
    "\n",
    "        step_size /= 2  # Decrease step size\n",
    "\n",
    "    return currSol  # Return the best solution found\n",
    "\n",
    "print(hill_climb(target=100))"
   ]
  },
  {
   "cell_type": "code",
   "execution_count": null,
   "metadata": {},
   "outputs": [],
   "source": []
  }
 ],
 "metadata": {
  "kernelspec": {
   "display_name": "base",
   "language": "python",
   "name": "python3"
  },
  "language_info": {
   "codemirror_mode": {
    "name": "ipython",
    "version": 3
   },
   "file_extension": ".py",
   "mimetype": "text/x-python",
   "name": "python",
   "nbconvert_exporter": "python",
   "pygments_lexer": "ipython3",
   "version": "3.9.13"
  }
 },
 "nbformat": 4,
 "nbformat_minor": 2
}
