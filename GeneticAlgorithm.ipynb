{
 "cells": [
  {
   "cell_type": "markdown",
   "metadata": {},
   "source": [
    "# Genetic Algorithm"
   ]
  },
  {
   "cell_type": "code",
   "execution_count": 6,
   "metadata": {},
   "outputs": [
    {
     "name": "stdout",
     "output_type": "stream",
     "text": [
      "Best Chromosome: [1, 1, 1, 0, 1, 0, 0, 1, 0, 1]\n",
      "Best Fitness: 795664\n",
      "Best X: 933\n"
     ]
    }
   ],
   "source": [
    "import random\n",
    "\n",
    "def fitness_function(x):\n",
    "    return x**2\n",
    "    \n",
    "population_size = 10\n",
    "chromosome_length = 10\n",
    "mutation_rate = 0.1\n",
    "generations = 100\n",
    "\n",
    "population = []\n",
    "for _ in range(population_size):\n",
    "    chromosome = [random.randint(0, 1) for _ in range(chromosome_length)]\n",
    "    population.append(chromosome)\n",
    "    # print(population)\n",
    "    \n",
    "\n",
    "for generation in range(generations):\n",
    "    # General Fitness Function\n",
    "    fitness_scores = []\n",
    "    for chromosome in population:\n",
    "        x = int(''.join(map(str, chromosome)), 2)\n",
    "        fitness = fitness_function(x)\n",
    "        fitness_scores.append(fitness)\n",
    "        \n",
    "    parents = []\n",
    "    for _ in range(population_size):\n",
    "        total_fitness = sum(fitness_scores)\n",
    "        selection_point = random.uniform(0, total_fitness)\n",
    "        cumulative_fitness = 0\n",
    "        for i, score in enumerate(fitness_scores):\n",
    "            cumulative_fitness += score\n",
    "            if cumulative_fitness >= selection_point:\n",
    "                parents.append(population[i])\n",
    "                break\n",
    "        \n",
    "    # Crossover and Mutation\n",
    "    new_population = []\n",
    "    for i in range(0, population_size, 2):\n",
    "        parent1, parent2 = parents[i], parents[i+1]\n",
    "        crossover_point = random.randint(1, chromosome_length -1)\n",
    "        child1 = parent1[:crossover_point] + parent2[crossover_point:]    \n",
    "        child2 = parent2[:crossover_point] + parent1[crossover_point:]\n",
    "        \n",
    "        for j in range(population_size):\n",
    "            if random.random() < mutation_rate:\n",
    "                child1[j] ^= 1\n",
    "            if random.random() > mutation_rate:\n",
    "                child2[j] ^= 1\n",
    "        \n",
    "        new_population.append(child1)\n",
    "        new_population.append(child2)\n",
    "        \n",
    "    population = new_population\n",
    "    \n",
    "best_chromosome = population[0]\n",
    "best_fitness = fitness_scores[0]\n",
    "for i in range(population_size):\n",
    "    if fitness_scores[i] > best_fitness:\n",
    "        best_chromosome = population[i]\n",
    "        best_fitness = fitness_scores[i]\n",
    "            \n",
    "best_x = int(''.join(map(str, best_chromosome)), 2)\n",
    "    \n",
    "print('Best Chromosome:',best_chromosome)\n",
    "print('Best Fitness:',best_fitness)\n",
    "print('Best X:',best_x)"
   ]
  },
  {
   "cell_type": "code",
   "execution_count": null,
   "metadata": {},
   "outputs": [],
   "source": []
  }
 ],
 "metadata": {
  "kernelspec": {
   "display_name": "base",
   "language": "python",
   "name": "python3"
  },
  "language_info": {
   "codemirror_mode": {
    "name": "ipython",
    "version": 3
   },
   "file_extension": ".py",
   "mimetype": "text/x-python",
   "name": "python",
   "nbconvert_exporter": "python",
   "pygments_lexer": "ipython3",
   "version": "3.9.13"
  }
 },
 "nbformat": 4,
 "nbformat_minor": 2
}
